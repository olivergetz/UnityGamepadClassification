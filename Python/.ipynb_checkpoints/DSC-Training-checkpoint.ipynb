{
 "cells": [
  {
   "cell_type": "code",
   "execution_count": 2,
   "id": "404bcd48",
   "metadata": {},
   "outputs": [],
   "source": [
    "import pandas as pd\n",
    "import numpy as np\n",
    "import sklearn\n",
    "import sklearn.model_selection\n"
   ]
  },
  {
   "cell_type": "code",
   "execution_count": 3,
   "id": "58cc2edc",
   "metadata": {},
   "outputs": [],
   "source": [
    "data_features = pd.read_csv(\"./data/data_features.csv\")\n",
    "data_raw = pd.read_csv(\"./data/data_raw.csv\")\n",
    "labels_features = pd.read_csv(\"./data/labels_features.csv\").to_numpy()\n",
    "labels_raw = pd.read_csv(\"./data/labels_raw.csv\").to_numpy()"
   ]
  },
  {
   "cell_type": "code",
   "execution_count": 38,
   "id": "fad63412",
   "metadata": {},
   "outputs": [
    {
     "data": {
      "text/plain": [
       "'\\nraw_data_train, raw_data_train, raw_lab_train, raw_lab_test = sklearn.model_selection.train_test_split(raw_data_train,\\n                                                                          raw_lab_train,\\n                                                                          train_size=0.8, \\n                                                                          random_state=seed)'"
      ]
     },
     "execution_count": 38,
     "metadata": {},
     "output_type": "execute_result"
    }
   ],
   "source": [
    "seed = 5550\n",
    "\n",
    "# Training using features\n",
    "feat_data_train, feat_data_test, feat_lab_train, feat_lab_test = sklearn.model_selection.train_test_split(data_features,\n",
    "                                                                                                        labels_features,\n",
    "                                                                                                        train_size=0.8, \n",
    "                                                                                                        random_state=seed, \n",
    "                                                                                                        stratify=labels_features)\n",
    "'''\n",
    "feat_data_train, feat_data_val, feat_lab_train, feat_lab_val  = sklearn.model_selection.train_test_split(feat_data_train,\n",
    "                                                                          feat_lab_train,\n",
    "                                                                          train_size=0.8, \n",
    "                                                                          random_state=seed)'''\n",
    "\n",
    "raw_data_train, raw_data_test, raw_lab_train, raw_lab_test = sklearn.model_selection.train_test_split(data_raw,\n",
    "                                                                        labels_raw,\n",
    "                                                                        train_size=0.8, \n",
    "                                                                        random_state=seed, \n",
    "                                                                        stratify=labels_raw)\n",
    "\n",
    "'''\n",
    "raw_data_train, raw_data_train, raw_lab_train, raw_lab_test = sklearn.model_selection.train_test_split(raw_data_train,\n",
    "                                                                          raw_lab_train,\n",
    "                                                                          train_size=0.8, \n",
    "                                                                          random_state=seed)'''"
   ]
  },
  {
   "cell_type": "code",
   "execution_count": 40,
   "id": "24d31b1e",
   "metadata": {},
   "outputs": [],
   "source": [
    "#learning the scaling transformation from the train data and applying it to both train and test set.\n",
    "\n",
    "#creating scaling object\n",
    "scaler = sklearn.preprocessing.StandardScaler()\n",
    "\n",
    "#learning scaling from train set\n",
    "scaler.fit(feat_data_train)\n",
    "\n",
    "#applying scaling to both train and test set\n",
    "feat_train = scaler.transform(feat_data_train)\n",
    "feat_test = scaler.transform(feat_data_test)"
   ]
  },
  {
   "cell_type": "code",
   "execution_count": 66,
   "id": "91162eb0",
   "metadata": {},
   "outputs": [
    {
     "name": "stdout",
     "output_type": "stream",
     "text": [
      "Number of mislabeled samples 5 out of 32\n",
      "Accuracy: 0.84375\n"
     ]
    }
   ],
   "source": [
    "from sklearn.svm import SVC\n",
    "model_SVM = SVC(kernel='rbf', C=10, gamma=0.1)\n",
    "\n",
    "#training the model\n",
    "model_SVM.fit(feat_train, feat_lab_train)\n",
    "\n",
    "#applying the the model on the test data (features)\n",
    "lab_predict =  model_SVM.predict(feat_test)\n",
    "\n",
    "\n",
    "#print the number of misclassified samples, accuracy and complete report (using scikit learn metric tools) \n",
    "print('Number of mislabeled samples %d out of %d' % ((feat_lab_test != lab_predict).sum(),feat_lab_test.size))\n",
    "print('Accuracy:',sklearn.metrics.accuracy_score(feat_lab_test, lab_predict))"
   ]
  }
 ],
 "metadata": {
  "kernelspec": {
   "display_name": "Python 3 (ipykernel)",
   "language": "python",
   "name": "python3"
  },
  "language_info": {
   "codemirror_mode": {
    "name": "ipython",
    "version": 3
   },
   "file_extension": ".py",
   "mimetype": "text/x-python",
   "name": "python",
   "nbconvert_exporter": "python",
   "pygments_lexer": "ipython3",
   "version": "3.10.9"
  }
 },
 "nbformat": 4,
 "nbformat_minor": 5
}
