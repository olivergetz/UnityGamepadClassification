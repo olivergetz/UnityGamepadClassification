{
 "cells": [
  {
   "cell_type": "code",
   "execution_count": 27,
   "id": "443c444e",
   "metadata": {},
   "outputs": [],
   "source": [
    "import pandas as pd\n",
    "import numpy as np\n",
    "import os"
   ]
  },
  {
   "cell_type": "code",
   "execution_count": 30,
   "id": "9927cec4",
   "metadata": {},
   "outputs": [],
   "source": [
    "def ux_score(score_path:str,model_name:str,p:float,c:float,s:float):\n",
    "    \n",
    "    for score in [p, c, s]:\n",
    "        if score > 7 or score < 1:\n",
    "            print(\"One of the scores is out of range. Please use numbers (1...7)\")\n",
    "            return\n",
    "    \n",
    "    max_score = 21\n",
    "    ux_score = (2*((p + c + s)-1) / max_score) - 1\n",
    "    \n",
    "    scores_dict = {\n",
    "    'Name': model_name, \n",
    "    'Predictability': p,\n",
    "    'Correlation': c,\n",
    "    'Satisfaction': s,\n",
    "    'UX Score': ux_score\n",
    "    }\n",
    "\n",
    "    # Convert to data frame.\n",
    "    scores_frame = pd.DataFrame(scores_dict, index=[0])\n",
    "    # Check if score csv exists.\n",
    "    if (os.path.exists(score_path)):\n",
    "        df = pd.read_csv(score_path, index_col=0)\n",
    "        df = pd.concat([df, scores_frame], ignore_index=True)\n",
    "        df.to_csv(score_path)\n",
    "\n",
    "    else:\n",
    "        scores_frame.to_csv(score_path)"
   ]
  },
  {
   "cell_type": "code",
   "execution_count": 45,
   "id": "646b6d8d",
   "metadata": {},
   "outputs": [],
   "source": [
    "ux_scores_path = \"./models/systematic/ux_scores.csv\"\n",
    "\n",
    "# Use discrete values.\n",
    "p = 6 # How much can you influence the model on purpose? 4 = neutral\n",
    "c = 1 # How much does the music correlate to what you are doing in game? 4 = neutral\n",
    "s = 1 # How does that influence the experience? 4 = neutral\n",
    "\n",
    "ux_score(ux_scores_path,\"Model 9\", p, c, s)\n",
    "#print((2*((p + c + s)-1) / max_score) - 1)"
   ]
  },
  {
   "cell_type": "code",
   "execution_count": null,
   "id": "34de496b",
   "metadata": {},
   "outputs": [],
   "source": []
  }
 ],
 "metadata": {
  "kernelspec": {
   "display_name": "Python 3 (ipykernel)",
   "language": "python",
   "name": "python3"
  },
  "language_info": {
   "codemirror_mode": {
    "name": "ipython",
    "version": 3
   },
   "file_extension": ".py",
   "mimetype": "text/x-python",
   "name": "python",
   "nbconvert_exporter": "python",
   "pygments_lexer": "ipython3",
   "version": "3.9.16"
  }
 },
 "nbformat": 4,
 "nbformat_minor": 5
}
