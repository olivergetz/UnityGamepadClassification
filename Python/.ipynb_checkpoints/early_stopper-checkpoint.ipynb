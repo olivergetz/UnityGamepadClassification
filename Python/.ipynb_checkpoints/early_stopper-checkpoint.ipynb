{
 "cells": [
  {
   "cell_type": "code",
   "execution_count": null,
   "id": "30a06a99",
   "metadata": {},
   "outputs": [],
   "source": [
    "class EarlyStopper:\n",
    "    # patience: Max consecutive epochs of no improvement\n",
    "    # learn_thresh: the amount of improvement needed to count as learning\n",
    "    def __init__(self, patience : int = 3, learn_thresh : float = 0.001):\n",
    "        self.patience = patience\n",
    "        self.elapsed_epochs = 0\n",
    "        self.best_f1 = 0\n",
    "        self.learn_thresh = learn_thresh\n",
    "\n",
    "    def stop_check(self, macro_f1 : float):\n",
    "        if macro_f1 > self.best_f1:\n",
    "            self.best_f1 = macro_f1\n",
    "            self.elapsed_epochs = 0 \n",
    "        elif macro_f1 < (self.best_f1 - self.learn_thresh):\n",
    "            self.elapsed_epochs += 1\n",
    "            if self.elapsed_epochs >= self.patience:\n",
    "                return True\n",
    "        return False"
   ]
  }
 ],
 "metadata": {
  "kernelspec": {
   "display_name": "Python 3 (ipykernel)",
   "language": "python",
   "name": "python3"
  },
  "language_info": {
   "codemirror_mode": {
    "name": "ipython",
    "version": 3
   },
   "file_extension": ".py",
   "mimetype": "text/x-python",
   "name": "python",
   "nbconvert_exporter": "python",
   "pygments_lexer": "ipython3",
   "version": "3.9.16"
  }
 },
 "nbformat": 4,
 "nbformat_minor": 5
}
