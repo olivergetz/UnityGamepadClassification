{
 "cells": [
  {
   "cell_type": "code",
   "execution_count": 1,
   "id": "92f86fa9",
   "metadata": {},
   "outputs": [],
   "source": [
    "import hid\n",
    "from IPython.display import clear_output\n",
    "import time\n",
    "import numpy as np\n",
    "import pandas as pd"
   ]
  },
  {
   "cell_type": "code",
   "execution_count": 2,
   "id": "f6a2149b",
   "metadata": {
    "scrolled": true
   },
   "outputs": [],
   "source": [
    "sample_rate = 100\n",
    "file_path = './data/'\n",
    "debug_mode = True\n",
    "\n",
    "# Headers for pandas\n",
    "controller_labels = ['Byte 0 Report ID', 'Byte 1 Left Stick X', 'Byte 2 Left Stick Y', 'Byte 3 Right Stick X', \n",
    "                     'Byte 4 Right Stick Y', 'Byte 5 L2 Trigger Axis', 'Byte 6 R2 Trigger Axis', \n",
    "                     'Byte 7 Vendor Defined', 'Byte 8 Directional and Face Btn', 'Byte 9 L/R 1, L/R 2, Create, Options, L/R 3',\n",
    "                     'Byte 10 PS Btn, Touch Btn, Mute, Vendor Defined','Byte 11 Unknown', 'Byte 12 Timestamp', 'Byte 13 Timestamp',\n",
    "                     'Byte 14 Timestamp', 'Byte 15 Timestamp', 'Byte 16 Gyro X Raw 1', 'Byte 17 Gyro X Raw 2', 'Byte 18 Gyro Y Raw 1',\n",
    "                     'Byte 19 Gyro Y Raw 2', 'Byte 20 Gyro Z Raw 1','Byte 21 Gyro Z Raw 2', 'Byte 22 Accel X Raw 1', 'Byte 23 Accel X Raw 2',\n",
    "                     'Byte 24 Accel Y Raw 1', 'Byte 25 Accel Y Raw 2', 'Byte 26 Accel Z Raw 1', 'Byte 27 Accel Z Raw 2', 'Byte 28 Unknown', \n",
    "                     'Byte 29 Unknown', 'Byte 30 Timestamp', 'Byte 31 Timestamp', 'Byte 32 Timestamp', 'Byte 33 Touchpad Tap Count',\n",
    "                     'Byte 34 Touchpad Vertical', 'Byte 35 Touchpad Horizontal','Byte 36 Touchpad Vertical Multiplier', 'Byte 37 Touchpad Multitouch Counter',\n",
    "                     'Byte 38 Touchpad Multitouch Vertical', 'Byte 39 Touchpad Multitouch Horizontal', 'Byte 40 Touchpad Multitouch Vertical Multiplier', \n",
    "                     'Byte 41 Touchpad Activity', 'Byte 42 Unknown','Byte 43 Unknown','Byte 44 Unknown', 'Byte 45 Unknown', 'Byte 46 Unknown', \n",
    "                     'Byte 47 Unknown', 'Byte 48 Unknown', 'Byte 49 Timestamp', 'Byte 50 Timestamp', 'Byte 51 Timestamp', 'Byte 52 Timestamp', \n",
    "                     'Byte 53 Timestamp', 'Byte 54 Timestamp', 'Byte 55 Timestamp', 'Byte 56 Unknown', 'Byte 57 Unknown', 'Byte 58 Unknown', \n",
    "                     'Byte 59 Unknown', 'Byte 60 Unknown', 'Byte 61 Unknown', 'Byte 62 Unknown', 'Byte 63 Unknown']\n",
    "\n",
    "\n",
    "def get_hid_ids(manufacturer, product_name):\n",
    "    for interface in hid.enumerate():\n",
    "        if (interface['manufacturer_string'] == manufacturer and interface['product_string'] == product_name):\n",
    "            return interface['vendor_id'], interface['product_id']\n",
    "    \n",
    "    return []\n",
    "\n",
    "def dualsense_inspect(vendor_id, product_id, sample_rate, idx=None, binary=False):\n",
    "    sample_rate_seconds = 1/sample_rate\n",
    "    dualSense = hid.device(vendor_id, product_id)\n",
    "    dualSense.open(vendor_id=vendor_id, product_id=product_id)\n",
    "    payload_size = len(dualSense.read(200))\n",
    "    while (True):\n",
    "        clear_output(wait=True)\n",
    "        payload = dualSense.read(payload_size)\n",
    "        if (idx == None):\n",
    "            for i, pay in enumerate(payload):\n",
    "                print('byte: {a} data: {b} '.format(a=i, b=format(pay, \"4d\")))\n",
    "                if (i % 8 == 0):\n",
    "                    print('\\n')\n",
    "        else:\n",
    "            if (binary): \n",
    "                payBin = format(payload[idx], '08b')\n",
    "                print(payBin)\n",
    "            else:\n",
    "                print(payload[idx])\n",
    "        time.sleep(sample_rate_seconds)\n",
    "        \n",
    "\n",
    "def dualsense_start_capture(filename, vendor_id, product_id, sample_rate, buffer_size):\n",
    "    sample_rate_seconds = 1/sample_rate\n",
    "    dualSense = hid.device(vendor_id, product_id)\n",
    "    # Both vendor_id and product_id are required.\n",
    "    dualSense.open(vendor_id=vendor_id, product_id=product_id)\n",
    "    # Check how many bytes are being sent. \n",
    "    # Numbers higher than n will be ignored.\n",
    "    payload_size = len(dualSense.read(200))\n",
    "    buffer = np.zeros((buffer_size, payload_size))\n",
    "\n",
    "    #hid.set_nonblocking(1)\n",
    "\n",
    "    # Populate buffer\n",
    "    for i in range(buffer_size):\n",
    "        progress = (i+1)/buffer_size\n",
    "        print(f'Recording data. Buffer: {i+1}/{buffer_size} {(progress*100):.0f}%')\n",
    "        clear_output(wait=True)\n",
    "        payload = dualSense.read(payload_size)\n",
    "        for j in range (payload_size):\n",
    "            buffer[i][j] = payload[j]\n",
    "        \n",
    "        time.sleep(sample_rate_seconds)\n",
    "    \n",
    "    dualSense.close()\n",
    "    \n",
    "    return buffer\n",
    "\n",
    "def dualsense_force_stop_capture(vendor_id, product_id):\n",
    "    dualSense = hid.device(vendor_id, product_id)\n",
    "    dualSense.close()\n",
    "    \n",
    "def byte_to_bits(input_decimal, start_slice, end_slice):\n",
    "    binary = format(input_decimal, '08b')\n",
    "    bits = [binary[7], binary[6], binary[5], binary[4], binary[3], binary[2], binary[1], binary[0]]\n",
    "    return bits"
   ]
  },
  {
   "cell_type": "code",
   "execution_count": null,
   "id": "bdb4e87c",
   "metadata": {
    "scrolled": false
   },
   "outputs": [],
   "source": [
    "if __name__ == \"__main__\":\n",
    "    if (debug_mode):\n",
    "        hid_vendor_id, hid_product_id = get_hid_ids('Sony Interactive Entertainment', 'Wireless Controller')\n",
    "        dualsense_inspect(hid_vendor_id, hid_product_id, 250, idx=8, binary=False)\n",
    "    else:\n",
    "        # Human-Interface Device (HID) Setup\n",
    "        hid_vendor_id, hid_product_id = get_hid_ids('Sony Interactive Entertainment', 'Wireless Controller')\n",
    "        data = dualsense_start_capture('dualsense_data.txt', hid_vendor_id, hid_product_id, sample_rate=100, buffer_size=1000)\n",
    "        # Save data\n",
    "        df = pd.DataFrame(data, columns=controller_labels)\n",
    "        label = 'high_intensity'\n",
    "        df.to_csv(file_path + 'dual_sense_data_' + label + '.csv')\n",
    "        "
   ]
  },
  {
   "cell_type": "code",
   "execution_count": null,
   "id": "c39e0be2",
   "metadata": {},
   "outputs": [],
   "source": []
  },
  {
   "cell_type": "code",
   "execution_count": null,
   "id": "f9706f57",
   "metadata": {},
   "outputs": [],
   "source": [
    "dualsense_force_stop_capture(hid_vendor_id, hid_product_id)"
   ]
  }
 ],
 "metadata": {
  "kernelspec": {
   "display_name": "Python 3 (ipykernel)",
   "language": "python",
   "name": "python3"
  },
  "language_info": {
   "codemirror_mode": {
    "name": "ipython",
    "version": 3
   },
   "file_extension": ".py",
   "mimetype": "text/x-python",
   "name": "python",
   "nbconvert_exporter": "python",
   "pygments_lexer": "ipython3",
   "version": "3.11.0"
  }
 },
 "nbformat": 4,
 "nbformat_minor": 5
}
