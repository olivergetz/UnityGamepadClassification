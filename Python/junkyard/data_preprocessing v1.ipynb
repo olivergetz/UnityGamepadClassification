{
 "cells": [
  {
   "cell_type": "code",
   "execution_count": 1,
   "id": "fa6abf8e",
   "metadata": {},
   "outputs": [],
   "source": [
    "import numpy as np\n",
    "import pandas as pd"
   ]
  },
  {
   "cell_type": "markdown",
   "id": "47cfaa10",
   "metadata": {},
   "source": [
    "Tensor Elements Order for Inference:\n",
    "\n",
    "(Left Stick, Right Stick, L2, R2, Triangle, Circle, Cross, Square, North, East, South, West, L1, R1, L2, R2, L3, R3,\n",
    "       'Byte 16 Gyro X Raw 1', 'Byte 17 Gyro X Raw 2', 'Byte 18 Gyro Y Raw 1',\n",
    "       'Byte 19 Gyro Y Raw 2', 'Byte 20 Gyro Z Raw 1', 'Byte 21 Gyro Z Raw 2',\n",
    "       'Byte 22 Accel X Raw 1', 'Byte 23 Accel X Raw 2',\n",
    "       'Byte 24 Accel Y Raw 1', 'Byte 25 Accel Y Raw 2',\n",
    "       'Byte 26 Accel Z Raw 1', 'Byte 27 Accel Z Raw 2')\n",
    "\n",
    "neutral: 0x8, N: 0x0, NE: 0x1, E: 0x2, SE: 0x3, S: 0x4, SW: 0x5, W: 0x6, NW: 0x7\n",
    "byte 5, bit 4: Button / 0x01 - 1 bit - Square button\n",
    "byte 5, bit 5: Button / 0x02 - 1 bit - Cross button\n",
    "byte 5, bit 6: Button / 0x03 - 1 bit - Circle button\n",
    "byte 5, bit 7: Button / 0x04 - 1 bit - Triangle button\n",
    "\n",
    "**Resources:**\n",
    "- [Nondebug](https://github.com/nondebug/dualsense)\n",
    "- [Dualsense USB Descriptor Report](https://github.com/nondebug/dualsense/blob/main/report-descriptor-bluetooth.txt)\n",
    "- [DSRemap](https://dsremap.readthedocs.io/en/latest/reverse.html)\n",
    "\n"
   ]
  },
  {
   "cell_type": "code",
   "execution_count": 74,
   "id": "d85b7027",
   "metadata": {},
   "outputs": [],
   "source": [
    "data_directory = './data/'\n",
    "df = pd.read_csv(data_directory + 'dual_sense_data_high_intensity.csv', index_col=0)\n",
    "\n",
    "def byte_to_bits(input_decimal):\n",
    "    byte = format(input_decimal, '08b')\n",
    "    bits = [byte[0], byte[1], byte[2], byte[3], byte[4], byte[5], byte[6], byte[7]]\n",
    "    num = [int(bit, 2) for bit in bits]\n",
    "    return num\n",
    "\n",
    "def bytes_to_bits(input_decimals):\n",
    "    bits = np.zeros((input_decimals.shape[0], 8), dtype=np.int8)\n",
    "    for i, hex_ in enumerate(input_decimals):\n",
    "        byte = format(int(hex_), '08b')\n",
    "        byte_split = [byte[0], byte[1], byte[2], byte[3], byte[4], byte[5], byte[6], byte[7]]\n",
    "        bits[i] = [int(bit, 2) for bit in byte_split]\n",
    "    return bits\n",
    "\n",
    "def to_unipolar(values):\n",
    "    return (values / 255) * 2 - 1\n",
    "\n",
    "def col_match_drop(dataframe, words_to_find):\n",
    "    indeces_to_drop = []\n",
    "    for i, col in enumerate(dataframe.columns):\n",
    "        for word in words_to_find:\n",
    "            if (word in col.lower()):\n",
    "                indeces_to_drop.append(i)\n",
    "                \n",
    "    dataframe = dataframe.drop(dataframe.columns[indeces_to_drop],axis = 1)\n",
    "    return dataframe\n",
    "\n",
    "def insert_dataframe_columns(destination, source, loc):\n",
    "    front = destination.drop(destination.columns[loc:],axis = 1)\n",
    "    back = destination.drop(destination.columns[:loc],axis = 1)\n",
    "    new_frame = pd.concat([source, back], axis=1)\n",
    "    new_frame = pd.concat([front, new_frame], axis=1)\n",
    "    return new_frame\n",
    "\n",
    "def bytes_to_unipolar(bytesA=[], bytesB=[]):\n",
    "    vectors = [[0 for i in range(2)] for i in range(bytesA.shape[0])]\n",
    "    for byte1, byte2 in zip(bytesA, bytesB):\n",
    "        new_byte = (byte2 & 0xFF) << 8 | (byte1 & 0xFF)\n",
    "        return (new_byte / 65535) * 2 - 1\n",
    "    return vectors"
   ]
  },
  {
   "cell_type": "code",
   "execution_count": 3,
   "id": "38cf05f0",
   "metadata": {},
   "outputs": [],
   "source": [
    "# Drop unimportant features.\n",
    "df = col_match_drop(df, ['report', 'unknown', 'timestamp', 'vendor', 'touchpad', 'multiplier'])\n",
    "# Decimal binary representations to unipolar\n",
    "df.iloc[:, 0:4] = to_unipolar(df.iloc[:, 0:4].to_numpy())\n",
    "df.iloc[:, 8:20] = to_unipolar(df.iloc[:, 8:20].to_numpy())\n",
    "# Split byte - Arrows and Buttons\n",
    "btns = bytes_to_bits(df.iloc[:, 7])"
   ]
  },
  {
   "cell_type": "code",
   "execution_count": 4,
   "id": "b633a10a",
   "metadata": {},
   "outputs": [],
   "source": [
    "# Face buttons use 1 bit each, so we can use them as-is.\n",
    "face_labels = ['Triangle', 'Circle', 'Cross', 'Square']\n",
    "face_buttons_frame = pd.DataFrame(btns[:, :4],columns=face_labels)\n",
    "\n",
    "# D-Pad uses uses the first nibble to describe 9 states\n",
    "# States: 8=neutral, 0=N, 1=NE, 2=E, 3=SE, 4=S, 5=SW, 6=W, 7=NW\n",
    "# Game engines are only interested in N, E, S, W, so we filter the others out.\n",
    "dpad_labels = ['North', 'East', 'South', 'West']\n",
    "bitmask = int('00000110', 2) # Filter out odd numbers between (0, 8]. \n",
    "num_check = [0, 2, 4, 6] # dpad messages in base10 to check for, represents N, E, S, and W.\n",
    "dpad_activity = [[0 for i in range(4)] for i in range(df.shape[0])] # Store results.\n",
    "for i, dpad_byte in enumerate(df.iloc[:, 7]):\n",
    "    # Convert base10 byte to base2\n",
    "    dpad_action = format(int(dpad_byte), '08b')\n",
    "    filtered_byte = bin(bitmask & int(dpad_action))\n",
    "    #print(format(int(filtered_byte, 2), '08b'))\n",
    "    for j, n in enumerate(num_check):\n",
    "        if(int(filtered_byte, 2) == num_check[j]):\n",
    "            dpad_activity[i][j] = 1\n",
    "\n",
    "dpad_frame = pd.DataFrame(dpad_activity, columns=dpad_labels)"
   ]
  },
  {
   "cell_type": "code",
   "execution_count": 5,
   "id": "37cb24a0",
   "metadata": {},
   "outputs": [],
   "source": [
    "# Insert new frames in place of base10 columns.\n",
    "df = df.drop(df.columns[6],axis = 1)"
   ]
  },
  {
   "cell_type": "code",
   "execution_count": 6,
   "id": "e9313047",
   "metadata": {},
   "outputs": [],
   "source": [
    "btn_frame = pd.concat([face_buttons_frame, dpad_frame], axis=1)\n",
    "df = insert_dataframe_columns(df, btn_frame, 6)"
   ]
  },
  {
   "cell_type": "code",
   "execution_count": 7,
   "id": "6f589c67",
   "metadata": {},
   "outputs": [],
   "source": [
    "# Bumpers use 1 bit each, so we can use them as-is.\n",
    "triggers_labels = ['L1', 'R1', 'L2', 'R2', 'Create', 'Options', 'L3', 'R3']\n",
    "df = df.reset_index(drop=True)\n",
    "triggers_bytes = bytes_to_bits(df.iloc[:, 14])"
   ]
  },
  {
   "cell_type": "code",
   "execution_count": 8,
   "id": "db9f75ad",
   "metadata": {
    "scrolled": false
   },
   "outputs": [],
   "source": [
    "triggers_frame = pd.DataFrame(triggers_bytes, columns=triggers_labels)\n",
    "triggers_frame = triggers_frame.drop(triggers_frame.columns[[4,5]],axis = 1) # Remove buttons not used for gameplay"
   ]
  },
  {
   "cell_type": "code",
   "execution_count": 9,
   "id": "7d7f01ea",
   "metadata": {},
   "outputs": [],
   "source": [
    "df = df.drop(df.columns[14],axis = 1)\n",
    "df = insert_dataframe_columns(df, triggers_frame, 14)"
   ]
  },
  {
   "cell_type": "code",
   "execution_count": 10,
   "id": "b506114c",
   "metadata": {},
   "outputs": [
    {
     "data": {
      "text/plain": [
       "Index(['Byte 1 Left Stick X', 'Byte 2 Left Stick Y', 'Byte 3 Right Stick X',\n",
       "       'Byte 4 Right Stick Y', 'Byte 5 L2 Trigger Axis',\n",
       "       'Byte 6 R2 Trigger Axis', 'Triangle', 'Circle', 'Cross', 'Square',\n",
       "       'North', 'East', 'South', 'West', 'L1', 'R1', 'L2', 'R2', 'L3', 'R3',\n",
       "       'Byte 16 Gyro X Raw 1', 'Byte 17 Gyro X Raw 2', 'Byte 18 Gyro Y Raw 1',\n",
       "       'Byte 19 Gyro Y Raw 2', 'Byte 20 Gyro Z Raw 1', 'Byte 21 Gyro Z Raw 2',\n",
       "       'Byte 22 Accel X Raw 1', 'Byte 23 Accel X Raw 2',\n",
       "       'Byte 24 Accel Y Raw 1', 'Byte 25 Accel Y Raw 2',\n",
       "       'Byte 26 Accel Z Raw 1', 'Byte 27 Accel Z Raw 2'],\n",
       "      dtype='object')"
      ]
     },
     "execution_count": 10,
     "metadata": {},
     "output_type": "execute_result"
    }
   ],
   "source": [
    "df.columns"
   ]
  },
  {
   "cell_type": "code",
   "execution_count": 84,
   "id": "547c2a32",
   "metadata": {},
   "outputs": [],
   "source": [
    "a = pd.DataFrame([1,2,3,4,3,4])\n"
   ]
  },
  {
   "cell_type": "code",
   "execution_count": 87,
   "id": "0983fa08",
   "metadata": {},
   "outputs": [
    {
     "data": {
      "text/plain": [
       "[[0, 0], [0, 0], [0, 0], [0, 0], [0, 0], [0, 0]]"
      ]
     },
     "execution_count": 87,
     "metadata": {},
     "output_type": "execute_result"
    }
   ],
   "source": [
    "vectors = [[0 for i in range(2)] for i in range(a.shape[0])]\n",
    "vectors"
   ]
  },
  {
   "cell_type": "code",
   "execution_count": 75,
   "id": "2264581f",
   "metadata": {},
   "outputs": [
    {
     "data": {
      "text/plain": [
       "0.9961242084382391"
      ]
     },
     "execution_count": 75,
     "metadata": {},
     "output_type": "execute_result"
    }
   ],
   "source": [
    "bytes_to_unipolar(128, 255)"
   ]
  },
  {
   "cell_type": "code",
   "execution_count": 38,
   "id": "895f088c",
   "metadata": {},
   "outputs": [
    {
     "data": {
      "text/plain": [
       "'1111111100000000'"
      ]
     },
     "execution_count": 38,
     "metadata": {},
     "output_type": "execute_result"
    }
   ],
   "source": [
    "decA = 255\n",
    "decB = 255\n",
    "\n",
    "a = int('11111111', 2)\n",
    "b = int('11111111', 2)\n",
    "format((b << 8),'b')"
   ]
  },
  {
   "cell_type": "code",
   "execution_count": 39,
   "id": "d716fd2e",
   "metadata": {},
   "outputs": [
    {
     "data": {
      "text/plain": [
       "'11111111'"
      ]
     },
     "execution_count": 39,
     "metadata": {},
     "output_type": "execute_result"
    }
   ],
   "source": [
    "format(decB, 'b')"
   ]
  },
  {
   "cell_type": "code",
   "execution_count": 40,
   "id": "dfd5946d",
   "metadata": {},
   "outputs": [
    {
     "data": {
      "text/plain": [
       "65535"
      ]
     },
     "execution_count": 40,
     "metadata": {},
     "output_type": "execute_result"
    }
   ],
   "source": [
    "((a & 0xFF) << 8) | (b & 0xFF)"
   ]
  },
  {
   "cell_type": "code",
   "execution_count": 29,
   "id": "c0414d43",
   "metadata": {},
   "outputs": [
    {
     "ename": "SyntaxError",
     "evalue": "invalid syntax. Perhaps you forgot a comma? (4207801779.py, line 1)",
     "output_type": "error",
     "traceback": [
      "\u001b[0;36m  Cell \u001b[0;32mIn[29], line 1\u001b[0;36m\u001b[0m\n\u001b[0;31m    gyroX = (((int)decB) << 8) | decA;\u001b[0m\n\u001b[0m               ^\u001b[0m\n\u001b[0;31mSyntaxError\u001b[0m\u001b[0;31m:\u001b[0m invalid syntax. Perhaps you forgot a comma?\n"
     ]
    }
   ],
   "source": [
    "gyroX = (((int)decB) << 8) | decA;\n",
    "gyroY = (((int)_buff[3]) << 8) | _buff[2];\n",
    "gyroZ = (((int)_buff[5]) << 8) | _buff[4];"
   ]
  }
 ],
 "metadata": {
  "kernelspec": {
   "display_name": "Python 3 (ipykernel)",
   "language": "python",
   "name": "python3"
  },
  "language_info": {
   "codemirror_mode": {
    "name": "ipython",
    "version": 3
   },
   "file_extension": ".py",
   "mimetype": "text/x-python",
   "name": "python",
   "nbconvert_exporter": "python",
   "pygments_lexer": "ipython3",
   "version": "3.11.0"
  }
 },
 "nbformat": 4,
 "nbformat_minor": 5
}
